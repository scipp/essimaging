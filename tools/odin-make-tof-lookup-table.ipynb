{
 "cells": [
  {
   "cell_type": "markdown",
   "id": "0",
   "metadata": {},
   "source": [
    "# Create a time-of-flight lookup table for ODIN"
   ]
  },
  {
   "cell_type": "code",
   "execution_count": null,
   "id": "1",
   "metadata": {},
   "outputs": [],
   "source": [
    "import scipp as sc\n",
    "import sciline as sl\n",
    "from ess.reduce import time_of_flight\n",
    "from ess.odin.beamline import choppers"
   ]
  },
  {
   "cell_type": "markdown",
   "id": "4",
   "metadata": {},
   "source": [
    "## Setting up the workflow"
   ]
  },
  {
   "cell_type": "code",
   "execution_count": null,
   "id": "5",
   "metadata": {},
   "outputs": [],
   "source": [
    "source_position = sc.vector([0, 0, 0], unit='m')\n",
    "\n",
    "wf = time_of_flight.TofLookupTableWorkflow()\n",
    "wf[time_of_flight.DiskChoppers] = choppers(source_position)\n",
    "wf[time_of_flight.SourcePosition] = source_position\n",
    "wf[time_of_flight.NumberOfSimulatedNeutrons] = 5_000_000\n",
    "wf[time_of_flight.SimulationSeed] = 1234\n",
    "wf[time_of_flight.PulseStride] = 2\n",
    "wf[time_of_flight.LtotalRange] = sc.scalar(55.0, unit=\"m\"), sc.scalar(65.0, unit=\"m\")\n",
    "wf[time_of_flight.DistanceResolution] = sc.scalar(0.1, unit=\"m\")\n",
    "wf[time_of_flight.TimeResolution] = sc.scalar(250.0, unit='us')\n",
    "wf[time_of_flight.LookupTableRelativeErrorThreshold] = 0.02"
   ]
  },
  {
   "cell_type": "markdown",
   "id": "6",
   "metadata": {},
   "source": [
    "## Compute the table"
   ]
  },
  {
   "cell_type": "code",
   "execution_count": null,
   "id": "7",
   "metadata": {},
   "outputs": [],
   "source": [
    "table = wf.compute(time_of_flight.TimeOfFlightLookupTable)\n",
    "table"
   ]
  },
  {
   "cell_type": "code",
   "execution_count": null,
   "id": "8",
   "metadata": {},
   "outputs": [],
   "source": [
    "table.plot()"
   ]
  },
  {
   "cell_type": "markdown",
   "id": "9",
   "metadata": {},
   "source": [
    "## Save to file"
   ]
  },
  {
   "cell_type": "code",
   "execution_count": null,
   "id": "10",
   "metadata": {},
   "outputs": [],
   "source": [
    "# Save chopper metadata\n",
    "# TODO: storing the choppers as a PyObject is skipped when saving to disk\n",
    "table.coords['choppers'] = sc.scalar(disk_choppers)\n",
    "# Write to file\n",
    "table.save_hdf5('ODIN-tof-lookup-table.h5')"
   ]
  }
 ],
 "metadata": {
  "kernelspec": {
   "display_name": "Python 3 (ipykernel)",
   "language": "python",
   "name": "python3"
  },
  "language_info": {
   "codemirror_mode": {
    "name": "ipython",
    "version": 3
   },
   "file_extension": ".py",
   "mimetype": "text/x-python",
   "name": "python",
   "nbconvert_exporter": "python",
   "pygments_lexer": "ipython3",
   "version": "3.12.7"
  }
 },
 "nbformat": 4,
 "nbformat_minor": 5
}
