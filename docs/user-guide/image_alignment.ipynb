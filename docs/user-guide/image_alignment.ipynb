{
 "cells": [
  {
   "cell_type": "markdown",
   "metadata": {},
   "source": [
    "# Image Alignment\n",
    "\n",
    "In case of displacement of the detector component, i.e. scintilator,\n",
    "the open beam (background) image can not be used\n",
    "for normalization of the sample (signal) image without alignment.\n",
    "\n",
    "Here is a simple image position shifting solution."
   ]
  },
  {
   "cell_type": "code",
   "execution_count": null,
   "metadata": {},
   "outputs": [],
   "source": [
    "from pathlib import Path\n",
    "\n",
    "ob_image = Path('background.tiff')\n",
    "misaligned_image = Path('misaligned_sample.tiff')"
   ]
  },
  {
   "cell_type": "code",
   "execution_count": null,
   "metadata": {},
   "outputs": [],
   "source": [
    "# load tiff image\n",
    "from PIL import Image\n",
    "\n",
    "ob = Image.open(ob_image)\n",
    "misaligned = Image.open(misaligned_image)"
   ]
  },
  {
   "cell_type": "code",
   "execution_count": null,
   "metadata": {},
   "outputs": [],
   "source": [
    "import numpy as np\n",
    "\n",
    "ob_normalized = (ob / np.max(ob) * 255).astype(np.uint8)\n",
    "misaligned_normalized = (misaligned / np.max(misaligned) * 255).astype(np.uint8)"
   ]
  },
  {
   "cell_type": "code",
   "execution_count": null,
   "metadata": {},
   "outputs": [],
   "source": [
    "def shift_pixels(image: np.ndarray, shift_x: int = 0, shift_y: int = 0) -> np.ndarray:\n",
    "    \"\"\"Shifts the pixels of an image by ``shift_x`` and ``shift_y``.\n",
    "\n",
    "    Image size will remain the same, shifted pixels will\n",
    "    be cropped and empty pixels will be filled with zeros.\n",
    "    \"\"\"\n",
    "    rows, cols = image.shape\n",
    "    empty_image = np.zeros(image.shape, dtype=np.uint8)\n",
    "    cropping_point = (\n",
    "        (max(0, -shift_y), min(rows, rows - shift_y)),\n",
    "        (max(0, -shift_x), min(cols, cols - shift_x)),\n",
    "    )\n",
    "    placing_point = (\n",
    "        (max(0, shift_y), min(rows, rows + shift_y)),\n",
    "        (max(0, shift_x), min(cols, cols + shift_x)),\n",
    "    )\n",
    "    empty_image[\n",
    "        placing_point[1][0] : placing_point[1][1],\n",
    "        placing_point[0][0] : placing_point[0][1],\n",
    "    ] = image[\n",
    "        cropping_point[1][0] : cropping_point[1][1],\n",
    "        cropping_point[0][0] : cropping_point[0][1],\n",
    "    ]\n",
    "    return empty_image"
   ]
  },
  {
   "cell_type": "code",
   "execution_count": null,
   "metadata": {},
   "outputs": [],
   "source": [
    "import matplotlib.pyplot as plt\n",
    "\n",
    "fig, ax = plt.subplots(2, 2, figsize=(15, 10))\n",
    "im = ax[0, 0].imshow(ob_normalized)\n",
    "ax[0, 1].imshow(misaligned_normalized, cmap=im.cmap)\n",
    "ax[1, 0].imshow(misaligned_normalized - (ob_normalized), cmap=im.cmap)\n",
    "ax[1, 1].imshow(\n",
    "    shift_pixels(misaligned_normalized, 6, 3) - (ob_normalized), cmap=im.cmap\n",
    ")\n",
    "\n",
    "ax[0, 0].set_title('Open Beam (Background)')\n",
    "ax[0, 1].set_title('Misaligned Sample')\n",
    "ax[1, 0].set_title('Misaligned Sample - Open Beam')\n",
    "ax[1, 1].set_title('Shifted Misaligned Sample - Open Beam')\n",
    "\n",
    "for ax_ in ax:\n",
    "    plt.colorbar(im, ax=ax_)\n",
    "    for ax__ in ax_:\n",
    "        ax__.set_xlabel('pixel numbers')\n",
    "        ax__.set_ylabel('pixel numbers')"
   ]
  },
  {
   "cell_type": "markdown",
   "metadata": {},
   "source": [
    "Here is the `sample` image that is included in the misaligned image:\n",
    "<img src='duck.png' width=200>"
   ]
  }
 ],
 "metadata": {
  "kernelspec": {
   "display_name": "img-dev-310",
   "language": "python",
   "name": "python3"
  },
  "language_info": {
   "codemirror_mode": {
    "name": "ipython",
    "version": 3
   },
   "file_extension": ".py",
   "mimetype": "text/x-python",
   "name": "python",
   "nbconvert_exporter": "python",
   "pygments_lexer": "ipython3",
   "version": "3.10.14"
  }
 },
 "nbformat": 4,
 "nbformat_minor": 2
}
