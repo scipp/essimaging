{
 "cells": [
  {
   "cell_type": "markdown",
   "id": "0",
   "metadata": {},
   "source": [
    "# TBL data reduction"
   ]
  },
  {
   "cell_type": "code",
   "execution_count": null,
   "id": "1",
   "metadata": {},
   "outputs": [],
   "source": [
    "import plopp as pp\n",
    "from ess.reduce import time_of_flight\n",
    "from ess import tbl\n",
    "import ess.tbl.data  # noqa: F401\n",
    "from ess.imaging.types import *"
   ]
  },
  {
   "cell_type": "markdown",
   "id": "2",
   "metadata": {},
   "source": [
    "## Create and configure the workflow"
   ]
  },
  {
   "cell_type": "code",
   "execution_count": null,
   "id": "3",
   "metadata": {},
   "outputs": [],
   "source": [
    "wf = tbl.TblWorkflow()\n",
    "\n",
    "wf[Filename[SampleRun]] = tbl.data.tutorial_sample_data()\n",
    "wf[TimeOfFlightLookupTableFilename] = tbl.data.tbl_tof_lookup_table_no_choppers()"
   ]
  },
  {
   "cell_type": "markdown",
   "id": "4",
   "metadata": {},
   "source": [
    "## nGEM detector data"
   ]
  },
  {
   "cell_type": "code",
   "execution_count": null,
   "id": "5",
   "metadata": {},
   "outputs": [],
   "source": [
    "wf[NeXusDetectorName] = \"ngem_detector\"\n",
    "\n",
    "wf.visualize(DetectorData[SampleRun], graph_attr={\"rankdir\": \"LR\"})"
   ]
  },
  {
   "cell_type": "code",
   "execution_count": null,
   "id": "6",
   "metadata": {},
   "outputs": [],
   "source": [
    "ngem = wf.compute(DetectorData[SampleRun])\n",
    "ngem"
   ]
  },
  {
   "cell_type": "code",
   "execution_count": null,
   "id": "7",
   "metadata": {},
   "outputs": [],
   "source": [
    "ngem['dim_0', 0].hist().plot(aspect='equal', title='First detection') + ngem['dim_0', 1].hist().plot(aspect='equal', title='Last detection')"
   ]
  },
  {
   "cell_type": "markdown",
   "id": "8",
   "metadata": {},
   "source": [
    "### Time-of-flight"
   ]
  },
  {
   "cell_type": "code",
   "execution_count": null,
   "id": "9",
   "metadata": {},
   "outputs": [],
   "source": [
    "wf.visualize(DetectorTofData[SampleRun], graph_attr={\"rankdir\": \"LR\"})"
   ]
  },
  {
   "cell_type": "markdown",
   "id": "10",
   "metadata": {},
   "source": [
    "#### Visualize the time-of-flight lookup table"
   ]
  },
  {
   "cell_type": "code",
   "execution_count": null,
   "id": "11",
   "metadata": {},
   "outputs": [],
   "source": [
    "table = wf.compute(time_of_flight.TimeOfFlightLookupTable)\n",
    "table.plot()"
   ]
  },
  {
   "cell_type": "markdown",
   "id": "12",
   "metadata": {},
   "source": [
    "#### Results"
   ]
  },
  {
   "cell_type": "code",
   "execution_count": null,
   "id": "13",
   "metadata": {},
   "outputs": [],
   "source": [
    "ngem_tofs = wf.compute(DetectorTofData[SampleRun])\n",
    "ngem_wavs = wf.compute(CountsWavelength[SampleRun])\n",
    "\n",
    "ngem_tofs.bins.concat().hist(tof=100).plot() + ngem_wavs.bins.concat().hist(wavelength=100).plot()"
   ]
  },
  {
   "cell_type": "markdown",
   "id": "14",
   "metadata": {},
   "source": [
    "## He3 detector data"
   ]
  },
  {
   "cell_type": "code",
   "execution_count": null,
   "id": "15",
   "metadata": {},
   "outputs": [],
   "source": [
    "he3_wf = wf.copy()\n",
    "\n",
    "he3 = {}\n",
    "for bank in ('he3_detector_bank0', 'he3_detector_bank1'):\n",
    "    he3_wf[NeXusDetectorName] = bank\n",
    "    he3[bank] = he3_wf.compute(DetectorData[SampleRun])"
   ]
  },
  {
   "cell_type": "code",
   "execution_count": null,
   "id": "16",
   "metadata": {},
   "outputs": [],
   "source": [
    "lims = {'vmin': 0, 'vmax': 4500}\n",
    "\n",
    "he3['he3_detector_bank0'].hist().plot(title='he3_bank0', **lims) + he3['he3_detector_bank1'].hist().plot(title='he3_bank1', **lims)"
   ]
  },
  {
   "cell_type": "markdown",
   "id": "17",
   "metadata": {},
   "source": [
    "### Time-of-flight"
   ]
  },
  {
   "cell_type": "code",
   "execution_count": null,
   "id": "18",
   "metadata": {},
   "outputs": [],
   "source": [
    "he3_tofs = {}\n",
    "he3_wavs = {}\n",
    "\n",
    "for bank in ('he3_detector_bank0', 'he3_detector_bank1'):\n",
    "    he3_wf[NeXusDetectorName] = bank\n",
    "    he3_tofs[bank] = he3_wf.compute(DetectorTofData[SampleRun]).bins.concat().hist(tof=100)\n",
    "    he3_wavs[bank] = he3_wf.compute(CountsWavelength[SampleRun]).bins.concat().hist(wavelength=100)\n",
    "\n",
    "pp.plot(he3_tofs) + pp.plot(he3_wavs)"
   ]
  }
 ],
 "metadata": {
  "kernelspec": {
   "display_name": "Python 3 (ipykernel)",
   "language": "python",
   "name": "python3"
  },
  "language_info": {
   "codemirror_mode": {
    "name": "ipython",
    "version": 3
   },
   "file_extension": ".py",
   "mimetype": "text/x-python",
   "name": "python",
   "nbconvert_exporter": "python",
   "pygments_lexer": "ipython3"
  }
 },
 "nbformat": 4,
 "nbformat_minor": 5
}
