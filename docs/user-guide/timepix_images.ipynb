{
 "cells": [
  {
   "cell_type": "markdown",
   "metadata": {},
   "source": [
    "# Timepix Images (Fe Sample and Open Beam)"
   ]
  },
  {
   "cell_type": "code",
   "execution_count": null,
   "metadata": {},
   "outputs": [],
   "source": [
    "%matplotlib widget"
   ]
  },
  {
   "cell_type": "code",
   "execution_count": null,
   "metadata": {},
   "outputs": [],
   "source": [
    "from ess.imaging.data import get_fe_timepix_image_path, get_ob_timepix_image_path\n",
    "from ess.imaging.io import load_tiff\n",
    "\n",
    "sample_image_path = get_fe_timepix_image_path()\n",
    "openbeam_image_path = get_ob_timepix_image_path()"
   ]
  },
  {
   "cell_type": "markdown",
   "metadata": {},
   "source": [
    "## Define Workflow"
   ]
  },
  {
   "cell_type": "code",
   "execution_count": null,
   "metadata": {},
   "outputs": [],
   "source": [
    "import pathlib\n",
    "\n",
    "import scipp as sc\n",
    "import sciline as sl\n",
    "\n",
    "from typing import NewType, TypeVar\n",
    "\n",
    "Sample = NewType('Sample', int)\n",
    "OpenBeam = NewType('OpenBeam', int)\n",
    "RunType = TypeVar('RunType', Sample, OpenBeam)\n",
    "\n",
    "\n",
    "class FilePath(sl.Scope[RunType, pathlib.Path], pathlib.Path): ...\n",
    "\n",
    "\n",
    "class TiffImage(sl.Scope[RunType, sc.DataArray], sc.DataArray): ...\n",
    "\n",
    "\n",
    "NormalizedImage = NewType('NormalizedImage', sc.DataArray)\n",
    "\n",
    "\n",
    "def load_image(path: FilePath[RunType]) -> TiffImage[RunType]:\n",
    "    easier_dims = {'dim_0': 'x', 'dim_1': 'y', 'dim_2': 't'}\n",
    "    img = load_tiff(path).rename_dims(easier_dims)\n",
    "    # Hard-code the time coordinate\n",
    "    img.coords['t'] = sc.linspace(\n",
    "        dim='t', start=0.0, stop=40.0, num=img.sizes['t'] + 1, unit='ns'\n",
    "    )\n",
    "    # Hard-code the positional coordinates\n",
    "    img.coords['x'] = sc.linspace(\n",
    "        dim='x', start=0, stop=10.0, num=img.sizes['x'] + 1, unit='cm'\n",
    "    )\n",
    "    img.coords['y'] = sc.linspace(\n",
    "        dim='y', start=0, stop=10.0, num=img.sizes['y'] + 1, unit='cm'\n",
    "    )\n",
    "    return img\n",
    "\n",
    "\n",
    "def normalize_image(\n",
    "    sample_img: TiffImage[Sample], openbeam_img: TiffImage[OpenBeam]\n",
    ") -> NormalizedImage:\n",
    "    \"\"\"\n",
    "    Normalize the sample image with open beam image /pixel and /time(wavelength)\n",
    "\n",
    "    ``nan`` values can occur if any pixels of `open beam` has `0` counts.\n",
    "    ``nan`` values are masked.\n",
    "    \"\"\"\n",
    "    normalized = sample_img / openbeam_img\n",
    "    normalized.masks['no-ob'] = sc.isnan(normalized.data)\n",
    "    normalized.data = sc.nan_to_num(\n",
    "        normalized.data, posinf=sc.scalar(0.0, unit='dimensionless')\n",
    "    )\n",
    "    return NormalizedImage(normalized)\n",
    "\n",
    "\n",
    "wf = sl.Pipeline(\n",
    "    providers=[load_image, normalize_image],\n",
    "    params={\n",
    "        FilePath[Sample]: sample_image_path,\n",
    "        FilePath[OpenBeam]: openbeam_image_path,\n",
    "    },\n",
    ")\n",
    "wf.visualize(NormalizedImage, graph_attr={'rankdir': 'LR'})"
   ]
  },
  {
   "cell_type": "markdown",
   "metadata": {},
   "source": [
    "## Compute Images"
   ]
  },
  {
   "cell_type": "code",
   "execution_count": null,
   "metadata": {},
   "outputs": [],
   "source": [
    "images = wf.compute((TiffImage[Sample], TiffImage[OpenBeam], NormalizedImage))\n",
    "sample_img = images[TiffImage[Sample]]\n",
    "openbeam_img = images[TiffImage[OpenBeam]]\n",
    "normalized_img = images[NormalizedImage]"
   ]
  },
  {
   "cell_type": "markdown",
   "metadata": {},
   "source": [
    "## Visualize Images\n",
    "### Raw Images (Sample and OpenBeam)"
   ]
  },
  {
   "cell_type": "code",
   "execution_count": null,
   "metadata": {},
   "outputs": [],
   "source": [
    "sample_2d = sample_img.sum('t').plot(title='Fe Image (Accumulated)', grid=True, cbar=False)\n",
    "openbeam_2d = openbeam_img.sum('t').plot(\n",
    "    title='Open Beam Image (Accumulated)', grid=True\n",
    ")\n",
    "\n",
    "sample_1d = sample_img.sum('x').sum('y').plot(title='Fe Spectrum', grid=True)\n",
    "openbeam_1d = openbeam_img.sum('x').sum('y').plot(title='Open Beam Spectrum', grid=True)\n",
    "\n",
    "(sample_2d + openbeam_2d) / (sample_1d + openbeam_1d)"
   ]
  },
  {
   "cell_type": "markdown",
   "metadata": {},
   "source": [
    "### Normalized Images"
   ]
  },
  {
   "cell_type": "code",
   "execution_count": null,
   "metadata": {},
   "outputs": [],
   "source": [
    "# Handle NaNs\n",
    "normalized_img.masks['no-ob'] = sc.isnan(normalized_img.data)\n",
    "normalized_img.data = sc.nan_to_num(\n",
    "    normalized_img.data, posinf=sc.scalar(0.0, unit='dimensionless')\n",
    ")\n",
    "# 2D\n",
    "normed_2d_da = normalized_img.sum('t')\n",
    "normed_2d_da.masks['no-ob'] = normalized_img.masks['no-ob'].all('t')\n",
    "normed_2d = normed_2d_da.plot(title='Normalized Image (Accumulated)', grid=True, cbar=False)\n",
    "# 1D\n",
    "normed_1d_da = normalized_img.sum('x').sum('y')\n",
    "normed_1d = normed_1d_da.plot(title='Normalized Spectrum', grid=True)\n",
    "normed_2d + normed_1d"
   ]
  },
  {
   "cell_type": "markdown",
   "metadata": {},
   "source": [
    "## ROI Selection Tool"
   ]
  },
  {
   "cell_type": "code",
   "execution_count": null,
   "metadata": {},
   "outputs": [],
   "source": [
    "import plopp as pp\n",
    "from plopp.widgets.tools import ToggleTool\n",
    "from mpltoolbox import Rectangles\n",
    "\n",
    "\n",
    "class RectInfo(sc.DataGroup):\n",
    "    @property\n",
    "    def min_x(self) -> sc.Variable:\n",
    "        return self['min_x']\n",
    "\n",
    "    @property\n",
    "    def max_x(self) -> sc.Variable:\n",
    "        return self['max_x']\n",
    "\n",
    "    @property\n",
    "    def min_y(self) -> sc.Variable:\n",
    "        return self['min_y']\n",
    "\n",
    "    @property\n",
    "    def max_y(self) -> sc.Variable:\n",
    "        return self['max_y']\n",
    "\n",
    "    def __init__(\n",
    "        self,\n",
    "        min_x: sc.Variable,\n",
    "        max_x: sc.Variable,\n",
    "        min_y: sc.Variable,\n",
    "        max_y: sc.Variable,\n",
    "    ):\n",
    "        super().__init__(\n",
    "            {'min_x': min_x, 'max_x': max_x, 'min_y': min_y, 'max_y': max_y}\n",
    "        )\n",
    "\n",
    "\n",
    "def _get_rect_info(artist, figure) -> RectInfo:\n",
    "    \"\"\"\n",
    "    Convert the raw rectangle info to a ``RectInfo`` object.\n",
    "    each axis, and values with units.\n",
    "    \"\"\"\n",
    "    x_range = sc.array(\n",
    "        dims=['x'],\n",
    "        values=[artist.xy[1], artist.xy[1] + artist.height],\n",
    "        unit=figure.canvas.units['x'],\n",
    "    )\n",
    "    y_range = sc.array(\n",
    "        dims=['y'],\n",
    "        values=[artist.xy[0], artist.xy[0] + artist.width],\n",
    "        unit=figure.canvas.units['y'],\n",
    "    )\n",
    "    return RectInfo(x_range.min(), x_range.max(), y_range.min(), y_range.max())\n",
    "\n",
    "\n",
    "class MergedRectanglesTool(ToggleTool):\n",
    "    def __init__(self, figure, destination, value: bool = False, **kwargs):\n",
    "        super().__init__(callback=self.start_stop, value=value, **kwargs)\n",
    "\n",
    "        self._figure = figure\n",
    "        self._tool = Rectangles(\n",
    "            ax=self._figure.ax, autostart=kwargs.get('autostart', False)\n",
    "        )\n",
    "        self.rectangles = []\n",
    "        self._draw_node = pp.Node(lambda: self.rectangles)  # Empty rectangle info.\n",
    "        self._destination = destination\n",
    "        self._destination.add_parents(self._draw_node)\n",
    "        self._tool.on_create(self.update_node)\n",
    "        self._tool.on_vertex_release(self.update_node)\n",
    "        self._tool.on_drag_release(self.update_node)\n",
    "        self._tool.on_remove(self.update_node)\n",
    "\n",
    "    def update_node(self, _):\n",
    "        self.rectangles = [\n",
    "            _get_rect_info(artist=artist, figure=self._figure)\n",
    "            for artist in self._tool.children\n",
    "        ]\n",
    "        self._draw_node.func = lambda: self.rectangles\n",
    "        self._draw_node.notify_children(\"\")  # Empty message.\n",
    "\n",
    "    def start_stop(self):\n",
    "        \"\"\"\n",
    "        Toggle start or stop of the tool.\n",
    "        \"\"\"\n",
    "        if self.value:\n",
    "            self._tool.start()\n",
    "        else:\n",
    "            self._tool.stop()\n"
   ]
  },
  {
   "cell_type": "code",
   "execution_count": null,
   "metadata": {},
   "outputs": [],
   "source": [
    "# Prepare the merge method\n",
    "from functools import reduce\n",
    "\n",
    "\n",
    "def _show_histogram(da: sc.DataArray, rect_infos: list[RectInfo]) -> sc.DataArray:\n",
    "    if len(rect_infos) > 0:\n",
    "        masks = [\n",
    "            (normalized_img.coords['x'] > rect_info.max_x)\n",
    "            | (normalized_img.coords['x'] < rect_info.min_x)\n",
    "            | (normalized_img.coords['y'] > rect_info.max_y)\n",
    "            | (normalized_img.coords['y'] < rect_info.min_y)\n",
    "            for rect_info in rect_infos\n",
    "        ]\n",
    "        mask = reduce(lambda x, y: x & y, masks)\n",
    "        selected_sample_region = da.copy(deep=False)\n",
    "        selected_sample_region.masks['roi'] = mask['x', :-1]['y', :-1]\n",
    "        return selected_sample_region.sum('x').sum('y')\n",
    "    else:\n",
    "        return da.sum('x').sum('y')\n",
    "\n",
    "\n",
    "original_data_node = pp.Node(normalized_img)\n",
    "merge_node = pp.Node(_show_histogram)\n",
    "merge_node.add_parents(original_data_node)"
   ]
  },
  {
   "cell_type": "code",
   "execution_count": null,
   "metadata": {},
   "outputs": [],
   "source": [
    "data_node = pp.Node(normalized_img.sum('t'))\n",
    "f2d = pp.imagefigure(\n",
    "    data_node, norm='log', title=\"Region of Interest Selection\", cbar=True\n",
    ")\n",
    "\n",
    "roi_merge_tool = MergedRectanglesTool(\n",
    "    figure=f2d, destination=merge_node, icon='vector-square'\n",
    ")\n",
    "f1d = pp.linefigure(merge_node, title=\"Wavelength Spectrum in ROI\", grid=True, vmin=0)"
   ]
  },
  {
   "cell_type": "code",
   "execution_count": null,
   "metadata": {},
   "outputs": [],
   "source": [
    "from plopp.widgets import HBar\n",
    "\n",
    "f2d.toolbar['roi-merged'] = roi_merge_tool\n",
    "box = HBar([f2d, f1d])\n",
    "box  # TODO: These ROI tools should be reusable easily with other data."
   ]
  }
 ],
 "metadata": {
  "kernelspec": {
   "display_name": "img-dev-310",
   "language": "python",
   "name": "python3"
  },
  "language_info": {
   "codemirror_mode": {
    "name": "ipython",
    "version": 3
   },
   "file_extension": ".py",
   "mimetype": "text/x-python",
   "name": "python",
   "nbconvert_exporter": "python",
   "pygments_lexer": "ipython3",
   "version": "3.10.14"
  }
 },
 "nbformat": 4,
 "nbformat_minor": 2
}
