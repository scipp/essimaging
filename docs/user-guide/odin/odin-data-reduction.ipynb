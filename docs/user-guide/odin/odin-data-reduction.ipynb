{
 "cells": [
  {
   "cell_type": "markdown",
   "id": "0",
   "metadata": {},
   "source": [
    "# Bragg-edge imaging with ODIN\n",
    "\n",
    "This notebook illustrates how to convert recorded events on the ODIN detector to a single wavelength spectrum,\n",
    "revealing a Bragg edge in the data.\n",
    "WFM mode was used in the chopper cascade."
   ]
  },
  {
   "cell_type": "code",
   "execution_count": null,
   "id": "1",
   "metadata": {},
   "outputs": [],
   "source": [
    "import scipp as sc\n",
    "from ess.reduce import time_of_flight\n",
    "from ess import odin\n",
    "import ess.odin.data  # noqa: F401\n",
    "from ess.imaging.types import *"
   ]
  },
  {
   "cell_type": "markdown",
   "id": "2",
   "metadata": {},
   "source": [
    "## Create and configure the workflow"
   ]
  },
  {
   "cell_type": "code",
   "execution_count": null,
   "id": "3",
   "metadata": {},
   "outputs": [],
   "source": [
    "wf = odin.OdinBraggEdgeWorkflow()\n",
    "\n",
    "wf[Filename[SampleRun]] = odin.data.iron_simulation_sample_small()\n",
    "wf[NeXusDetectorName] = \"event_mode_detectors/timepix3\"\n",
    "wf[time_of_flight.TimeOfFlightLookupTableFilename] = odin.data.odin_tof_lookup_table()"
   ]
  },
  {
   "cell_type": "markdown",
   "id": "4",
   "metadata": {},
   "source": [
    "## First look at the data\n",
    "\n",
    "We load the raw detector data and perform a quick visualization of the `event_time_offset` spectrum."
   ]
  },
  {
   "cell_type": "code",
   "execution_count": null,
   "id": "5",
   "metadata": {},
   "outputs": [],
   "source": [
    "tmpx3 = wf.compute(DetectorData[SampleRun])\n",
    "tmpx3"
   ]
  },
  {
   "cell_type": "code",
   "execution_count": null,
   "id": "6",
   "metadata": {},
   "outputs": [],
   "source": [
    "tmpx3.bins.concat().hist(event_time_offset=300).plot()"
   ]
  },
  {
   "cell_type": "markdown",
   "id": "7",
   "metadata": {},
   "source": [
    "## Compute neutron time-of-flight/wavelength\n",
    "\n",
    "We will now use the workflow to compute the neutron time-of-flight (equivalent to wavelength) using a lookup table built from the beamline chopper information."
   ]
  },
  {
   "cell_type": "code",
   "execution_count": null,
   "id": "8",
   "metadata": {},
   "outputs": [],
   "source": [
    "wf.visualize(DetectorTofData[SampleRun], graph_attr={\"rankdir\": \"LR\"})"
   ]
  },
  {
   "cell_type": "markdown",
   "id": "9",
   "metadata": {},
   "source": [
    "### Inspect the lookup table\n",
    "\n",
    "It is always a good idea to quickly plot the TOF lookup table, as a sanity check."
   ]
  },
  {
   "cell_type": "code",
   "execution_count": null,
   "id": "10",
   "metadata": {},
   "outputs": [],
   "source": [
    "table = wf.compute(time_of_flight.TimeOfFlightLookupTable)\n",
    "table.plot(figsize=(9, 4))"
   ]
  },
  {
   "cell_type": "markdown",
   "id": "11",
   "metadata": {},
   "source": [
    "### Compute neutron wavelengths"
   ]
  },
  {
   "cell_type": "code",
   "execution_count": null,
   "id": "12",
   "metadata": {},
   "outputs": [],
   "source": [
    "sample_wavs = wf.compute(CountsWavelength[SampleRun])\n",
    "\n",
    "sample_wavs.bins.concat().hist(wavelength=300).plot()"
   ]
  },
  {
   "cell_type": "markdown",
   "id": "13",
   "metadata": {},
   "source": [
    "## Process the open-beam run\n",
    "\n",
    "We now reuse the same workflow to process the open-beam run that will be used later for normalization."
   ]
  },
  {
   "cell_type": "code",
   "execution_count": null,
   "id": "14",
   "metadata": {},
   "outputs": [],
   "source": [
    "wf[Filename[OpenBeamRun]] = odin.data.iron_simulation_ob_small()\n",
    "openbeam_wavs = wf.compute(CountsWavelength[OpenBeamRun])\n",
    "\n",
    "openbeam_wavs.bins.concat().hist(wavelength=300).plot()"
   ]
  },
  {
   "cell_type": "markdown",
   "id": "15",
   "metadata": {},
   "source": [
    "## Select region of interest by masking outer regions\n",
    "\n",
    "Making a 2D histogram of the data shows a dark square region in the centre of the detector panel;\n",
    "this is the region of interest, where the square sample has absorbed neutrons."
   ]
  },
  {
   "cell_type": "code",
   "execution_count": null,
   "id": "16",
   "metadata": {},
   "outputs": [],
   "source": [
    "sample_wavs.hist().plot(aspect='equal')"
   ]
  },
  {
   "cell_type": "markdown",
   "id": "17",
   "metadata": {},
   "source": [
    "The brighter areas around the edges are regions where neutrons did not travel through the sample.\n",
    "We thus want to mask those out using masking rules based on the spatial coordinates of the data:"
   ]
  },
  {
   "cell_type": "code",
   "execution_count": null,
   "id": "18",
   "metadata": {},
   "outputs": [],
   "source": [
    "wf[MaskingRules] = {\n",
    "    'x_pixel_offset': lambda x: (x < sc.scalar(-5.8e-3, unit='m').to(unit=x.unit)) | (x > sc.scalar(5.8e-3, unit='m').to(unit=x.unit)),\n",
    "    'y_pixel_offset': lambda y: (y < sc.scalar(-5.8e-3, unit='m').to(unit=y.unit)) | (y > sc.scalar(5.8e-3, unit='m').to(unit=y.unit))\n",
    "}"
   ]
  },
  {
   "cell_type": "code",
   "execution_count": null,
   "id": "19",
   "metadata": {},
   "outputs": [],
   "source": [
    "masked = wf.compute(CountsMasked[SampleRun])\n",
    "\n",
    "masked.hist().plot(aspect='equal')"
   ]
  },
  {
   "cell_type": "markdown",
   "id": "20",
   "metadata": {},
   "source": [
    "## Normalize to open beam\n",
    "\n",
    "Finally, we use the masked sample and open-beam data to obtain a normalized signal,\n",
    "which reveals the Fe Bragg edges:"
   ]
  },
  {
   "cell_type": "code",
   "execution_count": null,
   "id": "21",
   "metadata": {},
   "outputs": [],
   "source": [
    "wbins = sc.linspace('wavelength', 1.1, 9.4, 301, unit='angstrom')\n",
    "\n",
    "normalized = (\n",
    "    wf.compute(CountsMasked[SampleRun]).bins.concat().hist(wavelength=wbins) /\n",
    "    wf.compute(CountsMasked[OpenBeamRun]).bins.concat().hist(wavelength=wbins)\n",
    ")\n",
    "\n",
    "normalized.plot()"
   ]
  },
  {
   "cell_type": "markdown",
   "id": "22",
   "metadata": {},
   "source": [
    "## Save the final result"
   ]
  },
  {
   "cell_type": "code",
   "execution_count": null,
   "id": "23",
   "metadata": {},
   "outputs": [],
   "source": [
    "from scippneutron.io import save_xye\n",
    "\n",
    "to_disk = normalized.copy(deep=False)\n",
    "to_disk.coords['wavelength'] = sc.midpoints(to_disk.coords['wavelength'])\n",
    "\n",
    "save_xye('fe_bragg_edge.xye', to_disk)"
   ]
  }
 ],
 "metadata": {
  "kernelspec": {
   "display_name": "Python 3 (ipykernel)",
   "language": "python",
   "name": "python3"
  },
  "language_info": {
   "codemirror_mode": {
    "name": "ipython",
    "version": 3
   },
   "file_extension": ".py",
   "mimetype": "text/x-python",
   "name": "python",
   "nbconvert_exporter": "python",
   "pygments_lexer": "ipython3"
  }
 },
 "nbformat": 4,
 "nbformat_minor": 5
}
