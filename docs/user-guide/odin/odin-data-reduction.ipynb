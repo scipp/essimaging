{
 "cells": [
  {
   "cell_type": "markdown",
   "id": "0",
   "metadata": {},
   "source": [
    "# Bragg-edge imaging with ODIN\n",
    "\n",
    "This notebook illustrates how to convert recorded events on the ODIN detector to a single wavelength spectrum,\n",
    "revealing a Bragg edge in the data.\n",
    "WFM mode was used in the chopper cascade."
   ]
  },
  {
   "cell_type": "code",
   "execution_count": null,
   "id": "e641d1f7-35d3-4edb-81e1-b8eff4c21dae",
   "metadata": {},
   "outputs": [],
   "source": [
    "import scipp as sc\n",
    "import plopp as pp\n",
    "from ess.reduce import time_of_flight\n",
    "from ess import odin\n",
    "import ess.odin.data  # noqa: F401\n",
    "from ess.imaging.types import *"
   ]
  },
  {
   "cell_type": "markdown",
   "id": "06d44005-c648-45e7-8aba-ad88406a9431",
   "metadata": {},
   "source": [
    "## Create and configure the workflow"
   ]
  },
  {
   "cell_type": "code",
   "execution_count": null,
   "id": "96e0c4e4-8c8a-4d18-957e-b21cc49bca67",
   "metadata": {},
   "outputs": [],
   "source": [
    "wf = odin.OdinWorkflow()\n",
    "\n",
    "wf[Filename[SampleRun]] = odin.data.iron_simulation_sample_small()\n",
    "wf[NeXusDetectorName] = \"event_mode_detectors/timepix3\""
   ]
  },
  {
   "cell_type": "markdown",
   "id": "c64d9e36-807c-417a-8a32-2628d023c266",
   "metadata": {},
   "source": [
    "## First look at the data\n",
    "\n",
    "We load the raw detector data and perform a quick visualization of the `event_time_offset` spectrum."
   ]
  },
  {
   "cell_type": "code",
   "execution_count": null,
   "id": "92356c94-3910-4015-b8c2-fafd3f23e8f6",
   "metadata": {},
   "outputs": [],
   "source": [
    "tmpx3 = wf.compute(DetectorData[SampleRun])\n",
    "tmpx3"
   ]
  },
  {
   "cell_type": "code",
   "execution_count": null,
   "id": "15bb8eb1-18c3-4009-88f6-12bf2aa961cf",
   "metadata": {},
   "outputs": [],
   "source": [
    "tmpx3.bins.concat().hist(event_time_offset=300).plot()"
   ]
  },
  {
   "cell_type": "markdown",
   "id": "fab2184d-0aed-4a3a-8d64-5ed581b1402f",
   "metadata": {},
   "source": [
    "## Compute neutron time-of-flight/wavelength\n",
    "\n",
    "We will now use the workflow to compute the neutron time-of-flight (equivalent to wavelength) using a lookup table built from the beamline chopper information."
   ]
  },
  {
   "cell_type": "code",
   "execution_count": null,
   "id": "1783dd39-9093-497d-aec7-59a6b9f0c94d",
   "metadata": {},
   "outputs": [],
   "source": [
    "wf.visualize(DetectorTofData[SampleRun], graph_attr={\"rankdir\": \"LR\"})"
   ]
  },
  {
   "cell_type": "markdown",
   "id": "e0af3bc1-7a11-4c96-8a7e-6f2665d22085",
   "metadata": {},
   "source": [
    "### Add the choppers and inspect the lookup table\n",
    "\n",
    "The complete chopper information is currently still missing from the NeXus files,\n",
    "and we thus add it from a helper module that contains some hard-coded beamline parameters for Odin.\n",
    "\n",
    "After having done so, it is always a good idea to quickly plot the TOF lookup table, as a sanity check."
   ]
  },
  {
   "cell_type": "code",
   "execution_count": null,
   "id": "19d29b5c-0063-4a75-b4c8-6bdf7dbbc023",
   "metadata": {},
   "outputs": [],
   "source": [
    "disk_choppers = odin.beamline.choppers(source_position=tmpx3.coords[\"source_position\"])\n",
    "wf[DiskChoppers[SampleRun]] = disk_choppers\n",
    "\n",
    "table = wf.compute(time_of_flight.TimeOfFlightLookupTable)\n",
    "table.plot(figsize=(9, 4))"
   ]
  },
  {
   "cell_type": "markdown",
   "id": "0c92346f-3fb0-43f3-a06b-d6debc1545a1",
   "metadata": {},
   "source": [
    "We now cache the `table` on the workflow to avoid re-computing it multiple times:"
   ]
  },
  {
   "cell_type": "code",
   "execution_count": null,
   "id": "7e2c0013-2692-43b7-bb54-fb9f6c6a34cb",
   "metadata": {},
   "outputs": [],
   "source": [
    "wf[time_of_flight.TimeOfFlightLookupTable] = table"
   ]
  },
  {
   "cell_type": "markdown",
   "id": "35bb9ac1-2447-462e-b4e2-cca4e5302b7f",
   "metadata": {},
   "source": [
    "### Compute neutron wavelengths"
   ]
  },
  {
   "cell_type": "code",
   "execution_count": null,
   "id": "d143609f-8e55-4d50-805a-4540d26d9680",
   "metadata": {},
   "outputs": [],
   "source": [
    "sample_wavs = wf.compute(DetectorWavelengthData[SampleRun])\n",
    "\n",
    "sample_wavs.bins.concat().hist(wavelength=300).plot()"
   ]
  },
  {
   "cell_type": "markdown",
   "id": "950d7dae-fdd3-4953-b73c-30e25ec44b90",
   "metadata": {},
   "source": [
    "## Process the open-beam run\n",
    "\n",
    "We now re-use the same workflow to process the open-beam run that will be used later for normalization."
   ]
  },
  {
   "cell_type": "code",
   "execution_count": null,
   "id": "517b9dfc-02ab-4931-855d-9bfa20e93201",
   "metadata": {},
   "outputs": [],
   "source": [
    "wf[Filename[EmptyBeamRun]] = odin.data.iron_simulation_ob_small()\n",
    "openbeam_wavs = wf.compute(DetectorWavelengthData[EmptyBeamRun])\n",
    "\n",
    "openbeam_wavs.bins.concat().hist(wavelength=300).plot()"
   ]
  },
  {
   "cell_type": "markdown",
   "id": "4f3730d9-54c6-4575-af4b-ac18e95e4a45",
   "metadata": {},
   "source": [
    "## Select region of interest by masking outer regions\n",
    "\n",
    "Making a 2D histogram of the data shows a dark square region in the centre of the detector panel;\n",
    "this is the region of interest, where the square sample has absorbed neutrons."
   ]
  },
  {
   "cell_type": "code",
   "execution_count": null,
   "id": "c421fb47-e10f-4410-965b-6f49a5ccfcb4",
   "metadata": {},
   "outputs": [],
   "source": [
    "sample_wavs.hist().plot(aspect='equal')"
   ]
  },
  {
   "cell_type": "markdown",
   "id": "4c1acb56-2d08-444d-9a10-f780a66a9ca7",
   "metadata": {},
   "source": [
    "The brighter areas around the edges are regions where neutrons did not travel through the sample.\n",
    "We thus want to mask those out using masking rules based on the spatial coordinates of the data:"
   ]
  },
  {
   "cell_type": "code",
   "execution_count": null,
   "id": "9e20f1c3-aca7-4427-8c2a-c739f1b7fe92",
   "metadata": {},
   "outputs": [],
   "source": [
    "wf[MaskingRules] = {\n",
    "    'x_pixel_offset': lambda x: (x < sc.scalar(-5.8e-3, unit='m').to(unit=x.unit)) | (x > sc.scalar(5.8e-3, unit='m').to(unit=x.unit)),\n",
    "    'y_pixel_offset': lambda y: (y < sc.scalar(-5.8e-3, unit='m').to(unit=y.unit)) | (y > sc.scalar(5.8e-3, unit='m').to(unit=y.unit))\n",
    "}"
   ]
  },
  {
   "cell_type": "code",
   "execution_count": null,
   "id": "644992b8-995f-4172-9919-c7133003e5a9",
   "metadata": {},
   "outputs": [],
   "source": [
    "masked = wf.compute(MaskedDetectorData[SampleRun])\n",
    "\n",
    "masked.hist().plot(aspect='equal')"
   ]
  },
  {
   "cell_type": "markdown",
   "id": "62aa649a-5b7b-452e-9047-220b717b4847",
   "metadata": {},
   "source": [
    "## Normalize to open beam\n",
    "\n",
    "Finally, we use the masked sample and open-beam data to obtain a normalized signal,\n",
    "which reveals the Fe Bragg edges:"
   ]
  },
  {
   "cell_type": "code",
   "execution_count": null,
   "id": "bb9c0b0d-3f2b-4948-a2c6-b6e8823af05f",
   "metadata": {},
   "outputs": [],
   "source": [
    "wbins = sc.linspace('wavelength', 1.1, 9.4, 301, unit='angstrom')\n",
    "\n",
    "normalized = (\n",
    "    wf.compute(MaskedDetectorData[SampleRun]).bins.concat().hist(wavelength=wbins) /\n",
    "    wf.compute(MaskedDetectorData[EmptyBeamRun]).bins.concat().hist(wavelength=wbins)\n",
    ")\n",
    "\n",
    "normalized.plot()"
   ]
  },
  {
   "cell_type": "markdown",
   "id": "32",
   "metadata": {},
   "source": [
    "## Save the final result"
   ]
  },
  {
   "cell_type": "code",
   "execution_count": null,
   "id": "33",
   "metadata": {},
   "outputs": [],
   "source": [
    "from scippneutron.io import save_xye\n",
    "\n",
    "to_disk = normalized.copy(deep=False)\n",
    "to_disk.coords['wavelength'] = sc.midpoints(to_disk.coords['wavelength'])\n",
    "\n",
    "save_xye('fe_bragg_edge.xye', to_disk)"
   ]
  }
 ],
 "metadata": {
  "kernelspec": {
   "display_name": "Python 3 (ipykernel)",
   "language": "python",
   "name": "python3"
  },
  "language_info": {
   "codemirror_mode": {
    "name": "ipython",
    "version": 3
   },
   "file_extension": ".py",
   "mimetype": "text/x-python",
   "name": "python",
   "nbconvert_exporter": "python",
   "pygments_lexer": "ipython3",
   "version": "3.12.7"
  }
 },
 "nbformat": 4,
 "nbformat_minor": 5
}
