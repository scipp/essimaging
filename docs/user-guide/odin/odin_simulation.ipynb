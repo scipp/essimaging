{
 "cells": [
  {
   "cell_type": "markdown",
   "id": "0",
   "metadata": {},
   "source": [
    "# Bragg-edge imaging with ODIN\n",
    "\n",
    "This notebook illustrates how to convert recorded events on the ODIN detector to a single wavelength spectrum,\n",
    "revealing a Bragg edge in the data.\n",
    "WFM mode was used in the chopper cascade."
   ]
  },
  {
   "cell_type": "markdown",
   "id": "1",
   "metadata": {},
   "source": [
    "## Loading dataset\n",
    "\n",
    "> Loader is not part of ``essimaging`` since McStas dataset format is not stabilized yet."
   ]
  },
  {
   "cell_type": "code",
   "execution_count": null,
   "id": "2",
   "metadata": {},
   "outputs": [],
   "source": [
    "import scipp as sc\n",
    "\n",
    "from ess.imaging.data import get_mcstas_ob_images_path, get_mcstas_sample_images_path\n",
    "from odin_mcstas_helper import (\n",
    "    load_odin_simulation_data,\n",
    "    McStasManualResolution,\n",
    "    PLAIN_GRAPH,\n",
    ")\n",
    "from ess.reduce.nexus.types import FilePath\n",
    "\n",
    "\n",
    "example_resolution = McStasManualResolution((128, 128))\n",
    "# Small resolution for faster testing and documentation build.\n",
    "ob_file_path = FilePath(get_mcstas_ob_images_path())\n",
    "sample_file_path = FilePath(get_mcstas_sample_images_path())\n",
    "ob_da = load_odin_simulation_data(ob_file_path, resolution=example_resolution)\n",
    "sample_da = load_odin_simulation_data(sample_file_path, resolution=example_resolution)\n",
    "sample_da"
   ]
  },
  {
   "cell_type": "markdown",
   "id": "3",
   "metadata": {},
   "source": [
    "## Convert McStas raw data to NeXus\n",
    "\n",
    "The raw McStas data looks different from what data in a NeXus file would look like.\n",
    "The time-of-flight recorded by the McStas monitor is a unwrapped time of arrival\n",
    "(see [essreduce WFM workflow](https://scipp.github.io/essreduce/user-guide/tof/wfm.html) and [scippneutron chopper cascade](https://scipp.github.io/scippneutron/user-guide/chopper/chopper-cascade.html) for more information);\n",
    "the `tof` coordinate has values beyond 71ms,\n",
    "as can be seen in the plot above.\n",
    "\n",
    "The workflow that computes wavelengths from the WFM chopper cascade expects data in the NeXus format,\n",
    "so we transform the data here."
   ]
  },
  {
   "cell_type": "code",
   "execution_count": null,
   "id": "4",
   "metadata": {},
   "outputs": [],
   "source": [
    "from odin_mcstas_helper import to_nexus\n",
    "\n",
    "sample_nexus = to_nexus(sample_da, resolution=example_resolution)\n",
    "ob_nexus = to_nexus(ob_da, resolution=example_resolution)\n",
    "\n",
    "sample_nexus"
   ]
  },
  {
   "cell_type": "code",
   "execution_count": null,
   "id": "5",
   "metadata": {},
   "outputs": [],
   "source": [
    "# Visualize\n",
    "fig_sample = (\n",
    "    sample_nexus.bins.concat()\n",
    "    .hist(event_time_offset=300)\n",
    "    .plot(title='McStas simulation: sample\\n(wrapped like ESS format, 14Hz pulse)')\n",
    ")\n",
    "fig_ob = (\n",
    "    ob_nexus.bins.concat()\n",
    "    .hist(event_time_offset=300)\n",
    "    .plot(title='McStas simulation: open beam\\n(wrapped like ESS format, 14Hz pulse)')\n",
    ")\n",
    "fig_sample + fig_ob"
   ]
  },
  {
   "cell_type": "code",
   "execution_count": null,
   "id": "6",
   "metadata": {},
   "outputs": [],
   "source": [
    "import plopp as pp\n",
    "\n",
    "pp.scatter3d(sample_nexus.hist(), pos='position', cbar=True, pixel_size=0.0005)"
   ]
  },
  {
   "cell_type": "markdown",
   "id": "7",
   "metadata": {},
   "source": [
    "## Choppers\n",
    "\n",
    "To accurately compute the wavelengths of the neutrons from their time-of-arrival,\n",
    "we need the parameters of the choppers in the beamline."
   ]
  },
  {
   "cell_type": "code",
   "execution_count": null,
   "id": "8",
   "metadata": {},
   "outputs": [],
   "source": [
    "import sciline as sl\n",
    "from odin_mcstas_helper import DISK_CHOPPERS\n",
    "\n",
    "disk_choppers = DISK_CHOPPERS.copy()  # Copy to avoid modifying the original dictionary"
   ]
  },
  {
   "cell_type": "code",
   "execution_count": null,
   "id": "9",
   "metadata": {},
   "outputs": [],
   "source": [
    "disk_choppers[\"WFMC_1\"]"
   ]
  },
  {
   "cell_type": "markdown",
   "id": "10",
   "metadata": {},
   "source": [
    "### Check that the chopper settings make sense with a quick `tof` run\n",
    "\n",
    "As useful sanity check is to run a basic simulation,\n",
    "propagating neutrons through the chopper cascade,\n",
    "using the [Tof](https://tof.readthedocs.io) package."
   ]
  },
  {
   "cell_type": "code",
   "execution_count": null,
   "id": "11",
   "metadata": {},
   "outputs": [],
   "source": [
    "from ess.reduce.time_of_flight.fakes import FakeBeamline\n",
    "\n",
    "Ltotal = sample_nexus.coords['Ltotal'].mean()\n",
    "ess_beamline = FakeBeamline(\n",
    "    choppers=disk_choppers,\n",
    "    monitors={\"detector\": Ltotal},\n",
    "    run_length=sc.scalar(1 / 14, unit=\"s\") * 8,\n",
    "    events_per_pulse=100_000,\n",
    ")\n",
    "\n",
    "ess_beamline.model_result.plot()"
   ]
  },
  {
   "cell_type": "markdown",
   "id": "12",
   "metadata": {},
   "source": [
    "We observe that the WFM choppers make 6 distinct frames at the detector,\n",
    "and that the other choppers skip every other pulse to maximize wavelength coverage.\n",
    "\n",
    "We can now compare the counts on the detector to our raw data,\n",
    "to make sure they broadly resemble each other."
   ]
  },
  {
   "cell_type": "code",
   "execution_count": null,
   "id": "13",
   "metadata": {},
   "outputs": [],
   "source": [
    "raw_data = ess_beamline.get_monitor(\"detector\")[0]\n",
    "\n",
    "# Visualize\n",
    "fig_ob + raw_data.hist(event_time_offset=300).squeeze().plot(\n",
    "    title='Tof simulation (no sample)'\n",
    ")"
   ]
  },
  {
   "cell_type": "markdown",
   "id": "14",
   "metadata": {},
   "source": [
    "## Use WFM workflow\n",
    "\n",
    "We now set up the workflow which will convert the raw neutron arrival times to a real time-of-flight,\n",
    "and thus a wavelength.\n",
    "\n",
    "### Setting up the workflow"
   ]
  },
  {
   "cell_type": "code",
   "execution_count": null,
   "id": "15",
   "metadata": {},
   "outputs": [],
   "source": [
    "from ess.reduce import time_of_flight\n",
    "\n",
    "workflow = sl.Pipeline(\n",
    "    time_of_flight.providers(), params=time_of_flight.default_parameters()\n",
    ")\n",
    "workflow[time_of_flight.RawData] = sample_nexus\n",
    "workflow[time_of_flight.Ltotal] = sample_nexus.coords['Ltotal']\n",
    "workflow[time_of_flight.LtotalRange] = (\n",
    "    sc.scalar(55.0, unit=\"m\"),\n",
    "    sc.scalar(65.0, unit=\"m\"),\n",
    ")\n",
    "workflow[time_of_flight.PulseStride] = 2  # Need for pulse-skipping\n",
    "workflow[time_of_flight.SimulationResults] = time_of_flight.simulate_beamline(\n",
    "    choppers=disk_choppers, neutrons=2_000_000, source_position=sc.vector([0, 0, 0], unit='m')\n",
    ")\n",
    "\n",
    "workflow.visualize(time_of_flight.TofData)"
   ]
  },
  {
   "cell_type": "markdown",
   "id": "16",
   "metadata": {},
   "source": [
    "### Inspect the lookup table"
   ]
  },
  {
   "cell_type": "code",
   "execution_count": null,
   "id": "17",
   "metadata": {},
   "outputs": [],
   "source": [
    "table = workflow.compute(time_of_flight.TimeOfFlightLookupTable).squeeze()\n",
    "\n",
    "table['pulse', 0].plot(title='Pulse 0') + table['pulse', 1].plot(title='Pulse 1')"
   ]
  },
  {
   "cell_type": "markdown",
   "id": "18",
   "metadata": {},
   "source": [
    "### Compute neutron time-of-flight"
   ]
  },
  {
   "cell_type": "code",
   "execution_count": null,
   "id": "19",
   "metadata": {},
   "outputs": [],
   "source": [
    "sample_tofs = workflow.compute(time_of_flight.TofData)\n",
    "sample_tofs"
   ]
  },
  {
   "cell_type": "code",
   "execution_count": null,
   "id": "20",
   "metadata": {},
   "outputs": [],
   "source": [
    "sample_wavs = sample_tofs.transform_coords('wavelength', graph=PLAIN_GRAPH)\n",
    "sample_wavs"
   ]
  },
  {
   "cell_type": "markdown",
   "id": "21",
   "metadata": {},
   "source": [
    "We can now compare our computed wavelengths to the true wavelengths of the neutrons in the McStas simulation:"
   ]
  },
  {
   "cell_type": "code",
   "execution_count": null,
   "id": "22",
   "metadata": {},
   "outputs": [],
   "source": [
    "true_wavs = sample_da.hist(sim_wavelength=300).rename(sim_wavelength='wavelength')\n",
    "\n",
    "pp.plot(\n",
    "    {\n",
    "        'true': true_wavs,\n",
    "        'wfm': sample_wavs.bins.concat().hist(\n",
    "            wavelength=true_wavs.coords['wavelength']\n",
    "        ),\n",
    "    },\n",
    "    title=\"ODIN McStas simulation\",\n",
    ")"
   ]
  },
  {
   "cell_type": "markdown",
   "id": "23",
   "metadata": {},
   "source": [
    "## Region of interest\n",
    "\n",
    "Looking at the counts on the 2d detector panel,\n",
    "we see that there is a central rectangular darker region,\n",
    "surrounded by brighter edges."
   ]
  },
  {
   "cell_type": "code",
   "execution_count": null,
   "id": "24",
   "metadata": {},
   "outputs": [],
   "source": [
    "sample_folded = sample_wavs.fold(dim='pixel_id', sizes={'y': 128, 'x': 128})\n",
    "sample_folded.hist().plot(aspect='equal')"
   ]
  },
  {
   "cell_type": "markdown",
   "id": "25",
   "metadata": {},
   "source": [
    "The dark region is where the beam was absorbed by the sample,\n",
    "and this is the region of interest.\n",
    "The brighter edges need to be discarded.\n",
    "\n",
    "We crop the data using simple array slicing:"
   ]
  },
  {
   "cell_type": "code",
   "execution_count": null,
   "id": "26",
   "metadata": {},
   "outputs": [],
   "source": [
    "sel = slice(11, 116, 1)\n",
    "sample_cropped = sample_folded['y', sel]['x', sel]\n",
    "sample_cropped.hist().plot(aspect='equal')"
   ]
  },
  {
   "cell_type": "markdown",
   "id": "27",
   "metadata": {},
   "source": [
    "### Repeat for the open-beam\n",
    "\n",
    "We repeat the conversion to wavelength and crop the edges of the open-beam measurement."
   ]
  },
  {
   "cell_type": "code",
   "execution_count": null,
   "id": "28",
   "metadata": {},
   "outputs": [],
   "source": [
    "# Give the same pixel positions to both sample and open beam.\n",
    "# Note: this is only because of the way we computed the positions.\n",
    "# In practice, the geometry should come from the nexus file and this won't be needed.\n",
    "ob_nexus.coords.update(\n",
    "    {key: sample_nexus.coords[key] for key in ('position', 'Ltotal')}\n",
    ")\n",
    "\n",
    "workflow[time_of_flight.Ltotal] = ob_nexus.coords['Ltotal']\n",
    "workflow[time_of_flight.RawData] = ob_nexus\n",
    "\n",
    "ob_tofs = workflow.compute(time_of_flight.TofData)\n",
    "ob_wavs = ob_tofs.transform_coords('wavelength', graph=PLAIN_GRAPH)\n",
    "ob_folded = ob_wavs.fold(dim='pixel_id', sizes={'y': 128, 'x': 128})\n",
    "ob_cropped = ob_folded['y', sel]['x', sel]"
   ]
  },
  {
   "cell_type": "markdown",
   "id": "29",
   "metadata": {},
   "source": [
    "## Normalize the signal\n",
    "\n",
    "Finally, we are able to normalize our sample measurement to the open-beam data.\n",
    "\n",
    "Here, we sum over all pixels before normalizing.\n",
    "There is no spatial structure in the signal, and we are only interested in the wavelength spectrum (where the Bragg edge is).\n",
    "So this is effectively like degrading the detector resolution to a single pixel."
   ]
  },
  {
   "cell_type": "code",
   "execution_count": null,
   "id": "30",
   "metadata": {},
   "outputs": [],
   "source": [
    "# Common set of bins\n",
    "bins = sc.linspace('wavelength', 1.1, 9.5, 301, unit='angstrom')\n",
    "\n",
    "num = sample_cropped.bins.concat().hist(wavelength=bins)\n",
    "den = ob_cropped.bins.concat().hist(wavelength=bins)\n",
    "\n",
    "normalized = num / den\n",
    "normalized"
   ]
  },
  {
   "cell_type": "code",
   "execution_count": null,
   "id": "31",
   "metadata": {},
   "outputs": [],
   "source": [
    "normalized.plot()"
   ]
  },
  {
   "cell_type": "markdown",
   "id": "32",
   "metadata": {},
   "source": [
    "## Save the final result"
   ]
  },
  {
   "cell_type": "code",
   "execution_count": null,
   "id": "33",
   "metadata": {},
   "outputs": [],
   "source": [
    "from scippneutron.io import save_xye\n",
    "\n",
    "to_disk = normalized.copy(deep=False)\n",
    "to_disk.coords['wavelength'] = sc.midpoints(to_disk.coords['wavelength'])\n",
    "\n",
    "save_xye('fe_bragg_edge.xye', to_disk)"
   ]
  }
 ],
 "metadata": {
  "kernelspec": {
   "display_name": "Python 3 (ipykernel)",
   "language": "python",
   "name": "python3"
  },
  "language_info": {
   "codemirror_mode": {
    "name": "ipython",
    "version": 3
   },
   "file_extension": ".py",
   "mimetype": "text/x-python",
   "name": "python",
   "nbconvert_exporter": "python",
   "pygments_lexer": "ipython3",
   "version": "3.12.9"
  }
 },
 "nbformat": 4,
 "nbformat_minor": 5
}
