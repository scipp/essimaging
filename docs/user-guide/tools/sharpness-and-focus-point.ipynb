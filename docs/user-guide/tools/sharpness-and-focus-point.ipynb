{
 "cells": [
  {
   "cell_type": "markdown",
   "id": "0",
   "metadata": {},
   "source": [
    "# Image sharpness and finding the focus point\n",
    "\n",
    "This notebook illustrates how to find the focus point of an imaging detector by computing the image sharpness as a function of camera position."
   ]
  },
  {
   "cell_type": "code",
   "execution_count": null,
   "id": "1",
   "metadata": {},
   "outputs": [],
   "source": [
    "import scipp as sc\n",
    "from ess import imaging as img\n",
    "from ess.imaging import data\n",
    "import scippnexus as sx\n",
    "import numpy as np"
   ]
  },
  {
   "cell_type": "markdown",
   "id": "2",
   "metadata": {},
   "source": [
    "## Load the data\n",
    "\n",
    "We load the image data, and attach the camera stage position to the data array."
   ]
  },
  {
   "cell_type": "code",
   "execution_count": null,
   "id": "3",
   "metadata": {},
   "outputs": [],
   "source": [
    "dg = sx.load(data.get_tbl_orca_focussing_path())\n",
    "da = dg[\"entry\"][\"instrument\"][\"orca_detector\"][\"data\"]\n",
    "da.coords[\"position\"] = dg[\"entry\"][\"instrument\"][\"camera_stage\"][\"position_setpoint\"][\n",
    "    \"value\"\n",
    "].data\n",
    "da = da.rename_dims(time=\"position\")\n",
    "da"
   ]
  },
  {
   "cell_type": "markdown",
   "id": "4",
   "metadata": {},
   "source": [
    "The data contains 61 images, one for each camera position.\n",
    "\n",
    "We can plot the first image in the sequence to get an impression of what it looks like:"
   ]
  },
  {
   "cell_type": "code",
   "execution_count": null,
   "id": "5",
   "metadata": {},
   "outputs": [],
   "source": [
    "da[\"position\", 0].plot(aspect=\"equal\")"
   ]
  },
  {
   "cell_type": "markdown",
   "id": "6",
   "metadata": {},
   "source": [
    "## Computing image sharpness\n",
    "\n",
    "The `ess.imaging.tools` module provides tools for image manipulation.\n",
    "The `sharpness` function computes image sharpness over two spatial dimensions (that need to be specified).\n",
    "The remaining `position` dimension will remain in the output."
   ]
  },
  {
   "cell_type": "code",
   "execution_count": null,
   "id": "7",
   "metadata": {},
   "outputs": [],
   "source": [
    "sharp = img.tools.sharpness(da, dims=[\"dim_1\", \"dim_2\"])\n",
    "sharp"
   ]
  },
  {
   "cell_type": "markdown",
   "id": "8",
   "metadata": {},
   "source": [
    "A simple plot of the sharpness reveals a 'best position' where the sharpness peaks (around 180 mm):"
   ]
  },
  {
   "cell_type": "code",
   "execution_count": null,
   "id": "9",
   "metadata": {},
   "outputs": [],
   "source": [
    "fig = sharp.plot()\n",
    "fig"
   ]
  },
  {
   "cell_type": "markdown",
   "id": "10",
   "metadata": {},
   "source": [
    "## Find the sharpest image\n",
    "\n",
    "To accurately find the sharpest image, and the associated camera stage position with the best focus,\n",
    "we filter outliers by applying a 75th percentile threshold to the data.\n",
    "We then compute the mean position weighted by the sharpness on the remaining points."
   ]
  },
  {
   "cell_type": "code",
   "execution_count": null,
   "id": "11",
   "metadata": {},
   "outputs": [],
   "source": [
    "threshold = sc.scalar(np.percentile(sharp.values, 75))\n",
    "sel = sharp.data >= threshold\n",
    "subset = sharp[sel]\n",
    "subset"
   ]
  },
  {
   "cell_type": "code",
   "execution_count": null,
   "id": "12",
   "metadata": {},
   "outputs": [],
   "source": [
    "# Compute weighted mean of selected points\n",
    "pos = (subset.coords[\"position\"] * subset.data).sum() / subset.data.sum()\n",
    "pos"
   ]
  },
  {
   "cell_type": "code",
   "execution_count": null,
   "id": "13",
   "metadata": {},
   "outputs": [],
   "source": [
    "fig.ax.axhline(threshold.value, color=\"lightgray\", label=\"threshold\")\n",
    "fig.ax.axvline(pos.value, color=\"k\", label=\"focus point\")\n",
    "fig.ax.legend()\n",
    "fig"
   ]
  },
  {
   "cell_type": "markdown",
   "id": "14",
   "metadata": {},
   "source": [
    "## Image comparison\n",
    "\n",
    "Finally, we can quickly compare the first image in the stack to the sharpest image determined above."
   ]
  },
  {
   "cell_type": "code",
   "execution_count": null,
   "id": "15",
   "metadata": {},
   "outputs": [],
   "source": [
    "# Show a smaller region to highlight details\n",
    "dx = 100\n",
    "xslice = (\"dim_2\", slice(363, 363 + dx))\n",
    "yslice = (\"dim_1\", slice(90, 90 + dx))\n",
    "\n",
    "# Find the closest position to the focus point\n",
    "closest = subset.coords[\"position\"][\n",
    "    np.argmin(sc.abs(subset.coords[\"position\"] - pos).values)\n",
    "]\n",
    "\n",
    "da[\"position\", 0][xslice][yslice].plot(aspect=\"equal\", title=\"First image\") + da[\n",
    "    \"position\", closest\n",
    "][xslice][yslice].plot(aspect=\"equal\", title=\"Sharpest image\")"
   ]
  }
 ],
 "metadata": {
  "kernelspec": {
   "display_name": "Python 3 (ipykernel)",
   "language": "python",
   "name": "python3"
  },
  "language_info": {
   "codemirror_mode": {
    "name": "ipython",
    "version": 3
   },
   "file_extension": ".py",
   "mimetype": "text/x-python",
   "name": "python",
   "nbconvert_exporter": "python",
   "pygments_lexer": "ipython3"
  }
 },
 "nbformat": 4,
 "nbformat_minor": 5
}
