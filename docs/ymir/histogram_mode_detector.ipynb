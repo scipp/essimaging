{
 "cells": [
  {
   "cell_type": "markdown",
   "metadata": {},
   "source": [
    "# Histogram Mode Detector\n",
    "\n",
    "## TL;DR - Get normalized sample images averaged along the rotation angle."
   ]
  },
  {
   "cell_type": "code",
   "execution_count": null,
   "metadata": {},
   "outputs": [],
   "source": [
    "from ess.imaging.data import get_ymir_images_path\n",
    "from ess.imaging.io import FilePath\n",
    "from ess.imaging.normalize import NormalizedSampleImages\n",
    "from ess.imaging.workflow import (\n",
    "    YmirImageNormalizationWorkflow,\n",
    "    ImageDetectorName,\n",
    "    RotationMotionSensorName,\n",
    ")\n",
    "\n",
    "wf = YmirImageNormalizationWorkflow()\n",
    "wf[FilePath] = (\n",
    "    get_ymir_images_path()\n",
    ")  # Replace with the path to your images in nexus file.\n",
    "wf[ImageDetectorName] = 'orca'\n",
    "wf[RotationMotionSensorName] = 'motion_cabinet_2'\n",
    "normalized = wf.compute(NormalizedSampleImages)\n",
    "normalized"
   ]
  },
  {
   "cell_type": "code",
   "execution_count": null,
   "metadata": {},
   "outputs": [],
   "source": [
    "normalized['time', 0].plot(\n",
    "    title=f'Normalized Sample Image at Rotation Angle of {normalized.coords[\"rotation_angle\"].values[0]:.3f}'\n",
    ")"
   ]
  },
  {
   "cell_type": "markdown",
   "metadata": {},
   "source": [
    "You can use a slicer to browse images along the rotation angle.\n",
    "\n",
    "```python\n",
    "%matplotlib widget\n",
    "from plopp import slicer\n",
    "\n",
    "slicer(normalized)\n",
    "```\n",
    "\n",
    "If you want to bin the images by linear steps of angles,\n",
    "you can use ``sc.groupby`` like below.\n",
    "\n",
    "```python\n",
    "%matplotlib widget\n",
    "import scipp as sc\n",
    "from plopp import slicer\n",
    "\n",
    "slicer(normalized.groupby(\n",
    "    'rotation_angle',\n",
    "    bins=sc.linspace(dim='rotation_angle', start=-0.5, stop=4.5, num=5, unit='deg'),\n",
    ").mean('rotation_angle'))\n",
    "```"
   ]
  },
  {
   "cell_type": "markdown",
   "metadata": {},
   "source": [
    "## IO\n",
    "\n",
    "I/O providers can load white beam images and slice them according to the image key.\n",
    "\n",
    "Note that not like the ``rotation_angle``, ``image_key`` is not assigned as a coordinate.\n",
    "\n",
    "Instead, we slice the data according to the ``image_key`` and separate image stacks earlier due to performance limitation of 3-dimensional data binning.\n",
    "\n",
    "> For example, for 400 images of 2_048 x 2_048 pixels couldn't be done in the regular laptop.\n",
    "\n",
    "### Load the data as a stack of images"
   ]
  },
  {
   "cell_type": "code",
   "execution_count": null,
   "metadata": {},
   "outputs": [],
   "source": [
    "from ess.imaging.data import get_ymir_images_path\n",
    "from ess.imaging.io import (\n",
    "    FilePath,\n",
    "    SampleImageStacksWithLogs,\n",
    "    RawSampleImageStacks,\n",
    "    OpenBeamImageStacks,\n",
    "    DarkCurrentImageStacks,\n",
    "    AllImageStacks,\n",
    ")\n",
    "from ess.imaging.workflow import (\n",
    "    YmirImageNormalizationWorkflow,\n",
    "    ImageDetectorName,\n",
    "    RotationMotionSensorName,\n",
    ")\n",
    "\n",
    "wf = YmirImageNormalizationWorkflow()\n",
    "wf[FilePath] = get_ymir_images_path()\n",
    "wf[ImageDetectorName] = 'orca'\n",
    "wf[RotationMotionSensorName] = 'motion_cabinet_2'"
   ]
  },
  {
   "cell_type": "code",
   "execution_count": null,
   "metadata": {},
   "outputs": [],
   "source": [
    "image_stack_types = (\n",
    "    AllImageStacks,\n",
    "    RawSampleImageStacks,\n",
    "    OpenBeamImageStacks,\n",
    "    DarkCurrentImageStacks,\n",
    "    SampleImageStacksWithLogs,\n",
    ")\n",
    "wf.visualize(image_stack_types)"
   ]
  },
  {
   "cell_type": "code",
   "execution_count": null,
   "metadata": {},
   "outputs": [],
   "source": [
    "results = wf.compute(image_stack_types)\n",
    "results[SampleImageStacksWithLogs]"
   ]
  },
  {
   "cell_type": "markdown",
   "metadata": {},
   "source": [
    "### Save Individual Frame"
   ]
  },
  {
   "cell_type": "code",
   "execution_count": null,
   "metadata": {},
   "outputs": [],
   "source": [
    "from ess.imaging.io import export_image_stacks_as_tiff, ImageKey\n",
    "\n",
    "from pathlib import Path\n",
    "from tqdm import tqdm\n",
    "\n",
    "\n",
    "output_dir = Path(\"images\")\n",
    "export_image_stacks_as_tiff(\n",
    "    output_dir=output_dir,\n",
    "    image_stacks=results[AllImageStacks],\n",
    "    merge_image_by_key=False,\n",
    "    overwrite=True,\n",
    "    progress_wrapper=tqdm,\n",
    "    image_prefix_map={\n",
    "        ImageKey.SAMPLE: \"sample\",\n",
    "        ImageKey.DARK_CURRENT: \"dc\",\n",
    "        ImageKey.OPEN_BEAM: \"ob\",\n",
    "    },\n",
    ")"
   ]
  },
  {
   "cell_type": "code",
   "execution_count": null,
   "metadata": {},
   "outputs": [],
   "source": [
    "sorted(output_dir.iterdir())"
   ]
  },
  {
   "cell_type": "markdown",
   "metadata": {},
   "source": [
    "### Save All Frames in One File"
   ]
  },
  {
   "cell_type": "code",
   "execution_count": null,
   "metadata": {},
   "outputs": [],
   "source": [
    "from ess.imaging.io import export_image_stacks_as_tiff, ImageKey\n",
    "from tqdm import tqdm\n",
    "from pathlib import Path\n",
    "\n",
    "\n",
    "output_dir = Path(\"images\")\n",
    "export_image_stacks_as_tiff(\n",
    "    output_dir=output_dir,\n",
    "    image_stacks=results[AllImageStacks],\n",
    "    merge_image_by_key=True,\n",
    "    overwrite=True,\n",
    "    progress_wrapper=tqdm,\n",
    "    image_prefix_map={\n",
    "        ImageKey.SAMPLE: \"sample\",\n",
    "        ImageKey.DARK_CURRENT: \"dc\",\n",
    "        ImageKey.OPEN_BEAM: \"ob\",\n",
    "    },\n",
    ")"
   ]
  },
  {
   "cell_type": "code",
   "execution_count": null,
   "metadata": {},
   "outputs": [],
   "source": [
    "tuple(output_dir.iterdir())"
   ]
  },
  {
   "cell_type": "code",
   "execution_count": null,
   "metadata": {
    "tags": [
     "remove-cell"
    ]
   },
   "outputs": [],
   "source": [
    "!rm -rf images"
   ]
  },
  {
   "cell_type": "markdown",
   "metadata": {},
   "source": [
    "## Normalization\n",
    "\n",
    "See :attr:ess.imaging.normalize.normalize_sample_images for more details."
   ]
  },
  {
   "cell_type": "code",
   "execution_count": null,
   "metadata": {},
   "outputs": [],
   "source": [
    "from ess.imaging.normalize import NormalizedSampleImages\n",
    "\n",
    "wf[OpenBeamImageStacks] = results[OpenBeamImageStacks]\n",
    "wf[DarkCurrentImageStacks] = results[DarkCurrentImageStacks]\n",
    "wf[SampleImageStacksWithLogs] = results[SampleImageStacksWithLogs]\n",
    "wf.visualize(NormalizedSampleImages)"
   ]
  },
  {
   "cell_type": "code",
   "execution_count": null,
   "metadata": {},
   "outputs": [],
   "source": [
    "wf.compute(NormalizedSampleImages)"
   ]
  }
 ],
 "metadata": {
  "kernelspec": {
   "display_name": "Python 3 (ipykernel)",
   "language": "python",
   "name": "python3"
  },
  "language_info": {
   "codemirror_mode": {
    "name": "ipython",
    "version": 3
   },
   "file_extension": ".py",
   "mimetype": "text/x-python",
   "name": "python",
   "nbconvert_exporter": "python",
   "pygments_lexer": "ipython3",
   "version": "3.10.14"
  }
 },
 "nbformat": 4,
 "nbformat_minor": 4
}
